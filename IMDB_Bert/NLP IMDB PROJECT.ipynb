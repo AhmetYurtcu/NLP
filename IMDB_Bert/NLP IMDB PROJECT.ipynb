{
 "cells": [
  {
   "cell_type": "code",
   "execution_count": 1,
   "id": "d2cf8108",
   "metadata": {
    "ExecuteTime": {
     "end_time": "2024-05-31T16:40:26.891268Z",
     "start_time": "2024-05-31T16:40:24.513466Z"
    }
   },
   "outputs": [],
   "source": [
    "import pandas as pd"
   ]
  },
  {
   "cell_type": "code",
   "execution_count": 2,
   "id": "3206785f",
   "metadata": {
    "ExecuteTime": {
     "end_time": "2024-05-31T16:40:28.390885Z",
     "start_time": "2024-05-31T16:40:27.773080Z"
    }
   },
   "outputs": [],
   "source": [
    "df = pd.read_csv(\"IMDB Dataset.csv\")"
   ]
  },
  {
   "cell_type": "code",
   "execution_count": 3,
   "id": "044e06a9",
   "metadata": {
    "ExecuteTime": {
     "end_time": "2024-05-31T16:40:28.482433Z",
     "start_time": "2024-05-31T16:40:28.393333Z"
    }
   },
   "outputs": [
    {
     "name": "stdout",
     "output_type": "stream",
     "text": [
      "<class 'pandas.core.frame.DataFrame'>\n",
      "RangeIndex: 50000 entries, 0 to 49999\n",
      "Data columns (total 2 columns):\n",
      " #   Column     Non-Null Count  Dtype \n",
      "---  ------     --------------  ----- \n",
      " 0   review     50000 non-null  object\n",
      " 1   sentiment  50000 non-null  object\n",
      "dtypes: object(2)\n",
      "memory usage: 781.4+ KB\n"
     ]
    }
   ],
   "source": [
    "df.info()"
   ]
  },
  {
   "cell_type": "code",
   "execution_count": 4,
   "id": "04a5eefe",
   "metadata": {
    "ExecuteTime": {
     "end_time": "2024-05-31T16:41:48.312737Z",
     "start_time": "2024-05-31T16:40:29.204942Z"
    }
   },
   "outputs": [
    {
     "name": "stderr",
     "output_type": "stream",
     "text": [
      "C:\\Users\\AHMET\\anaconda3\\envs\\notebook2\\lib\\site-packages\\tqdm\\auto.py:21: TqdmWarning: IProgress not found. Please update jupyter and ipywidgets. See https://ipywidgets.readthedocs.io/en/stable/user_install.html\n",
      "  from .autonotebook import tqdm as notebook_tqdm\n"
     ]
    }
   ],
   "source": [
    "import pandas as pd\n",
    "import re\n",
    "from textblob import TextBlob\n",
    "from sklearn.model_selection import train_test_split\n",
    "from transformers import AutoTokenizer, AutoModelForSequenceClassification, TrainingArguments, Trainer\n",
    "from datasets import Dataset, ClassLabel, load_metric\n",
    "\n",
    "# Veri setini yükleme ve temizleme\n",
    "data_path = 'IMDB Dataset.csv'\n",
    "imdb_data = pd.read_csv(data_path)\n",
    "imdb_data['review'] = imdb_data['review'].apply(lambda x: re.sub(r'<br\\s*/?>', ' ', x.lower()))\n",
    "\n",
    "# Duygu analizi ile sınıflandırma\n",
    "def get_sentiment(review):\n",
    "    analysis = TextBlob(review)\n",
    "    polarity = analysis.sentiment.polarity\n",
    "    if polarity > 0.1:\n",
    "        return 0  # positive\n",
    "    elif polarity < -0.1:\n",
    "        return 1  # negative\n",
    "    else:\n",
    "        return 2  # mixed\n",
    "\n",
    "imdb_data['label'] = imdb_data['review'].apply(get_sentiment)\n",
    "\n",
    "\n",
    "# Eğitim ve test veri setlerini ayırma\n",
    "train_df, test_df = train_test_split(imdb_data, test_size=0.2, random_state=42)\n",
    "\n",
    "# Hugging Face dataset nesnelerine dönüştürme\n",
    "train_dataset = Dataset.from_pandas(train_df)\n",
    "test_dataset = Dataset.from_pandas(test_df)"
   ]
  },
  {
   "cell_type": "code",
   "execution_count": 5,
   "id": "e267907a",
   "metadata": {
    "ExecuteTime": {
     "end_time": "2024-05-31T16:41:50.372791Z",
     "start_time": "2024-05-31T16:41:50.348910Z"
    },
    "scrolled": true
   },
   "outputs": [
    {
     "name": "stdout",
     "output_type": "stream",
     "text": [
      "<class 'pandas.core.frame.DataFrame'>\n",
      "RangeIndex: 50000 entries, 0 to 49999\n",
      "Data columns (total 3 columns):\n",
      " #   Column     Non-Null Count  Dtype \n",
      "---  ------     --------------  ----- \n",
      " 0   review     50000 non-null  object\n",
      " 1   sentiment  50000 non-null  object\n",
      " 2   label      50000 non-null  int64 \n",
      "dtypes: int64(1), object(2)\n",
      "memory usage: 1.1+ MB\n"
     ]
    }
   ],
   "source": [
    "imdb_data.info()"
   ]
  },
  {
   "cell_type": "code",
   "execution_count": 14,
   "id": "1e0fb995",
   "metadata": {
    "ExecuteTime": {
     "end_time": "2024-05-31T13:16:38.306286Z",
     "start_time": "2024-05-31T13:16:36.795326Z"
    }
   },
   "outputs": [],
   "source": [
    "imdb_data.to_csv(\"imdb_data_mixed\", index= False)"
   ]
  },
  {
   "cell_type": "code",
   "execution_count": 6,
   "id": "eab31cad",
   "metadata": {
    "ExecuteTime": {
     "end_time": "2024-05-31T16:41:55.957009Z",
     "start_time": "2024-05-31T16:41:55.938060Z"
    },
    "scrolled": true
   },
   "outputs": [
    {
     "data": {
      "text/plain": [
       "label\n",
       "0    25495\n",
       "2    19697\n",
       "1     4808\n",
       "Name: count, dtype: int64"
      ]
     },
     "execution_count": 6,
     "metadata": {},
     "output_type": "execute_result"
    }
   ],
   "source": [
    "imdb_data.label.value_counts()"
   ]
  },
  {
   "cell_type": "code",
   "execution_count": 8,
   "id": "11e783a1",
   "metadata": {
    "ExecuteTime": {
     "end_time": "2024-05-31T18:25:31.081040Z",
     "start_time": "2024-05-31T16:42:03.046911Z"
    },
    "scrolled": false
   },
   "outputs": [
    {
     "name": "stderr",
     "output_type": "stream",
     "text": [
      "Some weights of BertForSequenceClassification were not initialized from the model checkpoint at textattack/bert-base-uncased-imdb and are newly initialized because the shapes did not match:\n",
      "- classifier.weight: found shape torch.Size([2, 768]) in the checkpoint and torch.Size([3, 768]) in the model instantiated\n",
      "- classifier.bias: found shape torch.Size([2]) in the checkpoint and torch.Size([3]) in the model instantiated\n",
      "You should probably TRAIN this model on a down-stream task to be able to use it for predictions and inference.\n",
      "Map: 100%|██████████| 40000/40000 [00:12<00:00, 3147.09 examples/s]\n",
      "Map: 100%|██████████| 10000/10000 [00:03<00:00, 2948.18 examples/s]\n",
      "C:\\Users\\AHMET\\anaconda3\\envs\\notebook2\\lib\\site-packages\\transformers\\training_args.py:1474: FutureWarning: `evaluation_strategy` is deprecated and will be removed in version 4.46 of 🤗 Transformers. Use `eval_strategy` instead\n",
      "  warnings.warn(\n",
      "C:\\Users\\AHMET\\anaconda3\\envs\\notebook2\\lib\\site-packages\\transformers\\models\\bert\\modeling_bert.py:435: UserWarning: 1Torch was not compiled with flash attention. (Triggered internally at C:\\actions-runner\\_work\\pytorch\\pytorch\\builder\\windows\\pytorch\\aten\\src\\ATen\\native\\transformers\\cuda\\sdp_utils.cpp:455.)\n",
      "  attn_output = torch.nn.functional.scaled_dot_product_attention(\n"
     ]
    },
    {
     "data": {
      "text/html": [
       "\n",
       "    <div>\n",
       "      \n",
       "      <progress value='15000' max='15000' style='width:300px; height:20px; vertical-align: middle;'></progress>\n",
       "      [15000/15000 1:39:38, Epoch 3/3]\n",
       "    </div>\n",
       "    <table border=\"1\" class=\"dataframe\">\n",
       "  <thead>\n",
       " <tr style=\"text-align: left;\">\n",
       "      <th>Epoch</th>\n",
       "      <th>Training Loss</th>\n",
       "      <th>Validation Loss</th>\n",
       "      <th>Accuracy</th>\n",
       "    </tr>\n",
       "  </thead>\n",
       "  <tbody>\n",
       "    <tr>\n",
       "      <td>1</td>\n",
       "      <td>0.560900</td>\n",
       "      <td>0.582311</td>\n",
       "      <td>0.756200</td>\n",
       "    </tr>\n",
       "    <tr>\n",
       "      <td>2</td>\n",
       "      <td>0.429500</td>\n",
       "      <td>0.594290</td>\n",
       "      <td>0.768900</td>\n",
       "    </tr>\n",
       "    <tr>\n",
       "      <td>3</td>\n",
       "      <td>0.337300</td>\n",
       "      <td>0.805171</td>\n",
       "      <td>0.766100</td>\n",
       "    </tr>\n",
       "  </tbody>\n",
       "</table><p>"
      ],
      "text/plain": [
       "<IPython.core.display.HTML object>"
      ]
     },
     "metadata": {},
     "output_type": "display_data"
    },
    {
     "name": "stderr",
     "output_type": "stream",
     "text": [
      "C:\\Users\\AHMET\\AppData\\Local\\Temp\\ipykernel_6068\\3611860039.py:36: FutureWarning: load_metric is deprecated and will be removed in the next major version of datasets. Use 'evaluate.load' instead, from the new library 🤗 Evaluate: https://huggingface.co/docs/evaluate\n",
      "  return load_metric(\"accuracy\").compute(predictions=predictions, references=labels)\n",
      "C:\\Users\\AHMET\\anaconda3\\envs\\notebook2\\lib\\site-packages\\datasets\\load.py:759: FutureWarning: The repository for accuracy contains custom code which must be executed to correctly load the metric. You can inspect the repository content at https://raw.githubusercontent.com/huggingface/datasets/2.19.1/metrics/accuracy/accuracy.py\n",
      "You can avoid this message in future by passing the argument `trust_remote_code=True`.\n",
      "Passing `trust_remote_code=True` will be mandatory to load this metric from the next major release of `datasets`.\n",
      "  warnings.warn(\n",
      "C:\\Users\\AHMET\\anaconda3\\envs\\notebook2\\lib\\site-packages\\datasets\\load.py:759: FutureWarning: The repository for accuracy contains custom code which must be executed to correctly load the metric. You can inspect the repository content at https://raw.githubusercontent.com/huggingface/datasets/2.19.1/metrics/accuracy/accuracy.py\n",
      "You can avoid this message in future by passing the argument `trust_remote_code=True`.\n",
      "Passing `trust_remote_code=True` will be mandatory to load this metric from the next major release of `datasets`.\n",
      "  warnings.warn(\n",
      "C:\\Users\\AHMET\\anaconda3\\envs\\notebook2\\lib\\site-packages\\datasets\\load.py:759: FutureWarning: The repository for accuracy contains custom code which must be executed to correctly load the metric. You can inspect the repository content at https://raw.githubusercontent.com/huggingface/datasets/2.19.1/metrics/accuracy/accuracy.py\n",
      "You can avoid this message in future by passing the argument `trust_remote_code=True`.\n",
      "Passing `trust_remote_code=True` will be mandatory to load this metric from the next major release of `datasets`.\n",
      "  warnings.warn(\n"
     ]
    },
    {
     "data": {
      "text/html": [],
      "text/plain": [
       "<IPython.core.display.HTML object>"
      ]
     },
     "metadata": {},
     "output_type": "display_data"
    },
    {
     "name": "stdout",
     "output_type": "stream",
     "text": [
      "{'eval_loss': 0.8051713705062866, 'eval_accuracy': 0.7661, 'eval_runtime': 193.1194, 'eval_samples_per_second': 51.781, 'eval_steps_per_second': 3.236, 'epoch': 3.0}\n"
     ]
    },
    {
     "name": "stderr",
     "output_type": "stream",
     "text": [
      "C:\\Users\\AHMET\\anaconda3\\envs\\notebook2\\lib\\site-packages\\datasets\\load.py:759: FutureWarning: The repository for accuracy contains custom code which must be executed to correctly load the metric. You can inspect the repository content at https://raw.githubusercontent.com/huggingface/datasets/2.19.1/metrics/accuracy/accuracy.py\n",
      "You can avoid this message in future by passing the argument `trust_remote_code=True`.\n",
      "Passing `trust_remote_code=True` will be mandatory to load this metric from the next major release of `datasets`.\n",
      "  warnings.warn(\n"
     ]
    }
   ],
   "source": [
    "import torch\n",
    "from transformers import AutoTokenizer, AutoModelForSequenceClassification\n",
    "\n",
    "# Load model directly\n",
    "from transformers import AutoTokenizer, AutoModelForMaskedLM\n",
    "\n",
    "tokenizer = AutoTokenizer.from_pretrained(\"textattack/bert-base-uncased-imdb\")\n",
    "model = AutoModelForSequenceClassification.from_pretrained(\"textattack/bert-base-uncased-imdb\", num_labels=3, ignore_mismatched_sizes=True)  # Üç sınıf\n",
    "\n",
    "# Modelin çıkış katmanını yeni sınıflara uygun olarak yeniden başlatma\n",
    "model.classifier = torch.nn.Linear(model.config.hidden_size, 3)\n",
    "torch.nn.init.xavier_normal_(model.classifier.weight)\n",
    "\n",
    "# Tokenizasyon fonksiyonu\n",
    "def tokenize_function(examples):\n",
    "    return tokenizer(examples['review'], padding=\"max_length\", truncation=True, max_length=128)\n",
    "\n",
    "train_dataset = train_dataset.map(tokenize_function, batched=True)\n",
    "test_dataset = test_dataset.map(tokenize_function, batched=True)\n",
    "\n",
    "# Eğitim metrikleri\n",
    "training_args = TrainingArguments(\n",
    "    output_dir=\"./results\",\n",
    "    evaluation_strategy=\"epoch\",\n",
    "    learning_rate=2e-5,\n",
    "    per_device_train_batch_size=8,\n",
    "    per_device_eval_batch_size=16,\n",
    "    num_train_epochs=3,\n",
    "    weight_decay=0.01,\n",
    ")\n",
    "\n",
    "# Metrik hesaplama\n",
    "def compute_metrics(eval_pred):\n",
    "    logits, labels = eval_pred\n",
    "    predictions = logits.argmax(axis=-1)\n",
    "    return load_metric(\"accuracy\").compute(predictions=predictions, references=labels)\n",
    "\n",
    "# Trainer oluşturma\n",
    "trainer = Trainer(\n",
    "    model=model,\n",
    "    args=training_args,\n",
    "    train_dataset=train_dataset,\n",
    "    eval_dataset=test_dataset,\n",
    "    tokenizer=tokenizer,\n",
    "    compute_metrics=compute_metrics\n",
    ")\n",
    "\n",
    "# Modeli eğitme\n",
    "trainer.train()\n",
    "\n",
    "# Modeli değerlendirme\n",
    "results = trainer.evaluate()\n",
    "print(results)"
   ]
  },
  {
   "cell_type": "markdown",
   "id": "c1cdf261",
   "metadata": {},
   "source": [
    "# Model Performance"
   ]
  },
  {
   "cell_type": "code",
   "execution_count": 16,
   "id": "61d5eb66",
   "metadata": {
    "ExecuteTime": {
     "end_time": "2024-05-31T22:34:21.093103Z",
     "start_time": "2024-05-31T22:27:57.896575Z"
    },
    "scrolled": true
   },
   "outputs": [
    {
     "data": {
      "text/html": [],
      "text/plain": [
       "<IPython.core.display.HTML object>"
      ]
     },
     "metadata": {},
     "output_type": "display_data"
    },
    {
     "name": "stderr",
     "output_type": "stream",
     "text": [
      "C:\\Users\\AHMET\\anaconda3\\envs\\notebook2\\lib\\site-packages\\datasets\\load.py:759: FutureWarning: The repository for accuracy contains custom code which must be executed to correctly load the metric. You can inspect the repository content at https://raw.githubusercontent.com/huggingface/datasets/2.19.1/metrics/accuracy/accuracy.py\n",
      "You can avoid this message in future by passing the argument `trust_remote_code=True`.\n",
      "Passing `trust_remote_code=True` will be mandatory to load this metric from the next major release of `datasets`.\n",
      "  warnings.warn(\n",
      "C:\\Users\\AHMET\\anaconda3\\envs\\notebook2\\lib\\site-packages\\datasets\\load.py:759: FutureWarning: The repository for accuracy contains custom code which must be executed to correctly load the metric. You can inspect the repository content at https://raw.githubusercontent.com/huggingface/datasets/2.19.1/metrics/accuracy/accuracy.py\n",
      "You can avoid this message in future by passing the argument `trust_remote_code=True`.\n",
      "Passing `trust_remote_code=True` will be mandatory to load this metric from the next major release of `datasets`.\n",
      "  warnings.warn(\n"
     ]
    },
    {
     "name": "stdout",
     "output_type": "stream",
     "text": [
      "              precision    recall  f1-score   support\n",
      "\n",
      "    positive       0.83      0.83      0.83      5103\n",
      "    negative       0.66      0.64      0.65       956\n",
      "       mixed       0.70      0.71      0.71      3941\n",
      "\n",
      "    accuracy                           0.77     10000\n",
      "   macro avg       0.73      0.73      0.73     10000\n",
      "weighted avg       0.77      0.77      0.77     10000\n",
      "\n"
     ]
    }
   ],
   "source": [
    "import numpy as np\n",
    "from sklearn.metrics import classification_report\n",
    "# Model değerlendirme ve tahminlerin elde edilmesi\n",
    "metrics = trainer.evaluate()\n",
    "predictions = trainer.predict(test_dataset)\n",
    "predicted_labels = np.argmax(predictions.predictions, axis=1)\n",
    "\n",
    "# Gerçek etiketler\n",
    "true_labels = predictions.label_ids\n",
    "\n",
    "# Sınıflandırma raporunun hazırlanması\n",
    "report = classification_report(true_labels, predicted_labels, target_names=['positive', 'negative', 'mixed'])\n",
    "print(report)"
   ]
  },
  {
   "cell_type": "markdown",
   "id": "b87d3f8a",
   "metadata": {},
   "source": [
    "# Save Model"
   ]
  },
  {
   "cell_type": "code",
   "execution_count": 15,
   "id": "226e176b",
   "metadata": {
    "ExecuteTime": {
     "end_time": "2024-05-31T22:27:04.469771Z",
     "start_time": "2024-05-31T22:27:04.055451Z"
    }
   },
   "outputs": [
    {
     "name": "stdout",
     "output_type": "stream",
     "text": [
      "Model ve tokenizer ./saved_model dizinine kaydedildi.\n"
     ]
    }
   ],
   "source": [
    "# Modeli ve tokenizer'ı kaydet\n",
    "model_save_path = \"./saved_model\"\n",
    "tokenizer_save_path = \"./saved_model\"\n",
    "\n",
    "# Modeli kaydet\n",
    "model.save_pretrained(model_save_path)\n",
    "\n",
    "# Tokenizer'ı kaydet\n",
    "tokenizer.save_pretrained(tokenizer_save_path)\n",
    "\n",
    "print(f\"Model ve tokenizer {model_save_path} dizinine kaydedildi.\")"
   ]
  },
  {
   "cell_type": "markdown",
   "id": "45744286",
   "metadata": {},
   "source": [
    "# Load Model"
   ]
  },
  {
   "cell_type": "code",
   "execution_count": null,
   "id": "d68f2e25",
   "metadata": {},
   "outputs": [],
   "source": [
    "from transformers import AutoTokenizer, AutoModelForSequenceClassification\n",
    "\n",
    "model_load_path = \"./saved_model\"\n",
    "tokenizer_load_path = \"./saved_model\"\n",
    "\n",
    "model = AutoModelForSequenceClassification.from_pretrained(model_load_path)\n",
    "tokenizer = AutoTokenizer.from_pretrained(tokenizer_load_path)"
   ]
  }
 ],
 "metadata": {
  "hide_input": false,
  "kernelspec": {
   "display_name": "Python 3 (ipykernel)",
   "language": "python",
   "name": "python3"
  },
  "language_info": {
   "codemirror_mode": {
    "name": "ipython",
    "version": 3
   },
   "file_extension": ".py",
   "mimetype": "text/x-python",
   "name": "python",
   "nbconvert_exporter": "python",
   "pygments_lexer": "ipython3",
   "version": "3.9.19"
  },
  "toc": {
   "base_numbering": 1,
   "nav_menu": {},
   "number_sections": true,
   "sideBar": true,
   "skip_h1_title": false,
   "title_cell": "Table of Contents",
   "title_sidebar": "Contents",
   "toc_cell": false,
   "toc_position": {},
   "toc_section_display": true,
   "toc_window_display": false
  }
 },
 "nbformat": 4,
 "nbformat_minor": 5
}
